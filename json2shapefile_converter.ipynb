{
 "cells": [
  {
   "cell_type": "code",
   "execution_count": 1,
   "metadata": {},
   "outputs": [],
   "source": [
    "import requests,pandas,geopandas,shapely,os,re"
   ]
  },
  {
   "cell_type": "code",
   "execution_count": 2,
   "metadata": {},
   "outputs": [],
   "source": [
    "def converter(results_dir,label,url,relevant_fields):\n",
    "    \n",
    "    elf.write('Processing {} ...\\n'.format(label))\n",
    "    \n",
    "    # 1. read url\n",
    "    response=requests.get(url)\n",
    "    data=response.json()\n",
    "    \n",
    "    # 2. create dictionary\n",
    "    dictionary={}\n",
    "    for field in relevant_fields:\n",
    "        dictionary[field]=[]\n",
    "        \n",
    "    message='\\t Detected {} locations.\\n'.format(len(data['items']))\n",
    "    elf.write(message)\n",
    "\n",
    "    for item in data['items']:    \n",
    "\n",
    "        item_id=item['id']\n",
    "        titol=item['titol']\n",
    "        \n",
    "        # working with phones\n",
    "        clean_phones=[]\n",
    "        for element in item['telefons']:\n",
    "            if (element != '') and (element[:3] != 'Ext'):\n",
    "                \n",
    "                element=element.replace('T1','')\n",
    "                if element[:2] == '34':\n",
    "                    element=element[3:]\n",
    "                    \n",
    "                element=re.sub('[^0-9]','',element)\n",
    "                \n",
    "                if (element[0] == '9') or (element[0] == '6') or (element == '012') or (element == '112') or (element == '092') or (element[0] == '7') or (element[0] == '8'):\n",
    "                    clean_phones.append(element)\n",
    "                else:\n",
    "                    elf.write('WARNING: Unrecognized phone number for {}. Phone number not added to shapefile: {}\\n'.format(titol,element))\n",
    "        phones=', '.join(clean_phones)\n",
    "        # end of working with phones\n",
    "\n",
    "        try:\n",
    "            utmx=item['utm']['utmx']\n",
    "            utmy=item['utm']['utmy']\n",
    "\n",
    "            dictionary['id'].append(item_id)\n",
    "            dictionary['titol'].append(titol)\n",
    "            dictionary['utx'].append(utmx)\n",
    "            dictionary['uty'].append(utmy)\n",
    "            dictionary['phone'].append(phones)\n",
    "\n",
    "        except:\n",
    "            message='WARNING: dropping {} because utm not found.\\n'.format(titol)\n",
    "            elf.write(message)\n",
    "    \n",
    "    # 3. create pandas dataframe and write csv\n",
    "    df=pandas.DataFrame.from_dict(dictionary)\n",
    "    df.to_csv('{}{}.txt'.format(results_dir,label),sep='\\t')\n",
    "    \n",
    "    # 4. create geopandas dataframe\n",
    "    geometry=[shapely.geometry.Point(xy) for xy in zip(df.utx,df.uty)]\n",
    "    crs={'init':'epsg:25831'}\n",
    "    gdf=geopandas.GeoDataFrame(df,crs=crs,geometry=geometry)\n",
    "    \n",
    "    # 5. create shapefile\n",
    "    gdf.to_file('{}{}.shp'.format(results_dir,label))\n",
    "    \n",
    "    return None"
   ]
  },
  {
   "cell_type": "markdown",
   "metadata": {},
   "source": [
    "# 0. User defined variables"
   ]
  },
  {
   "cell_type": "code",
   "execution_count": 3,
   "metadata": {},
   "outputs": [],
   "source": [
    "url_file='/Volumes/GoogleDrive/My Drive/help/toni/data/url_serveisoberts.txt'\n",
    "results_dir='/Volumes/GoogleDrive/My Drive/help/toni/results/all/'\n",
    "error_log_file='/Volumes/GoogleDrive/My Drive/help/toni/results/error_log.txt'"
   ]
  },
  {
   "cell_type": "code",
   "execution_count": 4,
   "metadata": {},
   "outputs": [],
   "source": [
    "relevant_fields=['id','titol','utx','uty','phone']"
   ]
  },
  {
   "cell_type": "code",
   "execution_count": 5,
   "metadata": {},
   "outputs": [],
   "source": [
    "tags={\n",
    "    'Ajuntaments':'ajuntaments',\n",
    "    'Confraries':'conf_pesc',\n",
    "    'atenci%C3%B3%20ciutadana':'of_aten_ciut',\n",
    "    'agr%C3%A0ria':'eca',\n",
    "    'capacitaci%C3%B3%20nauticopesquera':'ecanautica',\n",
    "    'Hotels':'hotels_entitats',\n",
    "    'Biblioteques':'biblioteca',\n",
    "    'Cultura&adv':'cultura',\n",
    "    'Educaci%C3%B3':'educacio',\n",
    "    'Depend':'cme',\n",
    "    'Bombers':'bombers',\n",
    "    'Policia%20de%20Tr%C3%A0nsit%':'transit_mossos',\n",
    "    'Policies%20Locals':'polic_local',\n",
    "    'Centres%20sanitaris':'centres_sanitaris',\n",
    "    'deixalleries':'deixalleries',\n",
    "}"
   ]
  },
  {
   "cell_type": "markdown",
   "metadata": {},
   "source": [
    "# 1. Open error log file"
   ]
  },
  {
   "cell_type": "code",
   "execution_count": 6,
   "metadata": {},
   "outputs": [],
   "source": [
    "elf=open(error_log_file,'w')"
   ]
  },
  {
   "cell_type": "markdown",
   "metadata": {},
   "source": [
    "# 2. Read data"
   ]
  },
  {
   "cell_type": "code",
   "execution_count": 7,
   "metadata": {},
   "outputs": [],
   "source": [
    "# not working because:\n",
    "# DriverError: '/vsimem/b90a75d3a81f4494ac7992a7be08428d' not recognized as a supported file format.\n",
    "\n",
    "# geopandas.read_file(url)"
   ]
  },
  {
   "cell_type": "code",
   "execution_count": 8,
   "metadata": {},
   "outputs": [
    {
     "name": "stdout",
     "output_type": "stream",
     "text": [
      "URLs detected: 15\n"
     ]
    }
   ],
   "source": [
    "urls=[]\n",
    "with open(url_file,'r') as f:\n",
    "    for line in f:\n",
    "        v=line.split()\n",
    "        urls.append(v[0])\n",
    "print('URLs detected: {}'.format(len(urls)))"
   ]
  },
  {
   "cell_type": "code",
   "execution_count": 9,
   "metadata": {},
   "outputs": [],
   "source": [
    "# check that each tag is uniquely URL\n",
    "for tag in tags:\n",
    "    found=sum(tag in s for s in urls)\n",
    "    if found != 1:\n",
    "        raise ValueError('Tag found more than in one URL.')"
   ]
  },
  {
   "cell_type": "markdown",
   "metadata": {},
   "source": [
    "# 3. Iterate URLs"
   ]
  },
  {
   "cell_type": "code",
   "execution_count": 10,
   "metadata": {
    "scrolled": false
   },
   "outputs": [
    {
     "ename": "FileNotFoundError",
     "evalue": "[Errno 2] No such file or directory: '/Volumes/GoogleDrive/My Drive/help/toni/results/all/ajuntaments.txt'",
     "output_type": "error",
     "traceback": [
      "\u001b[0;31m---------------------------------------------------------------------------\u001b[0m",
      "\u001b[0;31mFileNotFoundError\u001b[0m                         Traceback (most recent call last)",
      "\u001b[0;32m<ipython-input-10-f72138356463>\u001b[0m in \u001b[0;36m<module>\u001b[0;34m\u001b[0m\n\u001b[1;32m      7\u001b[0m \u001b[0;34m\u001b[0m\u001b[0m\n\u001b[1;32m      8\u001b[0m     \u001b[0;31m# convert json to shapefile\u001b[0m\u001b[0;34m\u001b[0m\u001b[0;34m\u001b[0m\u001b[0;34m\u001b[0m\u001b[0m\n\u001b[0;32m----> 9\u001b[0;31m     \u001b[0mconverter\u001b[0m\u001b[0;34m(\u001b[0m\u001b[0mresults_dir\u001b[0m\u001b[0;34m,\u001b[0m\u001b[0mlabel\u001b[0m\u001b[0;34m,\u001b[0m\u001b[0murl\u001b[0m\u001b[0;34m,\u001b[0m\u001b[0mrelevant_fields\u001b[0m\u001b[0;34m)\u001b[0m\u001b[0;34m\u001b[0m\u001b[0;34m\u001b[0m\u001b[0m\n\u001b[0m",
      "\u001b[0;32m<ipython-input-2-db4a11d70535>\u001b[0m in \u001b[0;36mconverter\u001b[0;34m(results_dir, label, url, relevant_fields)\u001b[0m\n\u001b[1;32m     54\u001b[0m     \u001b[0;31m# 3. create pandas dataframe and write csv\u001b[0m\u001b[0;34m\u001b[0m\u001b[0;34m\u001b[0m\u001b[0;34m\u001b[0m\u001b[0m\n\u001b[1;32m     55\u001b[0m     \u001b[0mdf\u001b[0m\u001b[0;34m=\u001b[0m\u001b[0mpandas\u001b[0m\u001b[0;34m.\u001b[0m\u001b[0mDataFrame\u001b[0m\u001b[0;34m.\u001b[0m\u001b[0mfrom_dict\u001b[0m\u001b[0;34m(\u001b[0m\u001b[0mdictionary\u001b[0m\u001b[0;34m)\u001b[0m\u001b[0;34m\u001b[0m\u001b[0;34m\u001b[0m\u001b[0m\n\u001b[0;32m---> 56\u001b[0;31m     \u001b[0mdf\u001b[0m\u001b[0;34m.\u001b[0m\u001b[0mto_csv\u001b[0m\u001b[0;34m(\u001b[0m\u001b[0;34m'{}{}.txt'\u001b[0m\u001b[0;34m.\u001b[0m\u001b[0mformat\u001b[0m\u001b[0;34m(\u001b[0m\u001b[0mresults_dir\u001b[0m\u001b[0;34m,\u001b[0m\u001b[0mlabel\u001b[0m\u001b[0;34m)\u001b[0m\u001b[0;34m,\u001b[0m\u001b[0msep\u001b[0m\u001b[0;34m=\u001b[0m\u001b[0;34m'\\t'\u001b[0m\u001b[0;34m)\u001b[0m\u001b[0;34m\u001b[0m\u001b[0;34m\u001b[0m\u001b[0m\n\u001b[0m\u001b[1;32m     57\u001b[0m \u001b[0;34m\u001b[0m\u001b[0m\n\u001b[1;32m     58\u001b[0m     \u001b[0;31m# 4. create geopandas dataframe\u001b[0m\u001b[0;34m\u001b[0m\u001b[0;34m\u001b[0m\u001b[0;34m\u001b[0m\u001b[0m\n",
      "\u001b[0;32m~/opt/anaconda3/lib/python3.7/site-packages/pandas/core/generic.py\u001b[0m in \u001b[0;36mto_csv\u001b[0;34m(self, path_or_buf, sep, na_rep, float_format, columns, header, index, index_label, mode, encoding, compression, quoting, quotechar, line_terminator, chunksize, date_format, doublequote, escapechar, decimal)\u001b[0m\n\u001b[1;32m   3226\u001b[0m             \u001b[0mdecimal\u001b[0m\u001b[0;34m=\u001b[0m\u001b[0mdecimal\u001b[0m\u001b[0;34m,\u001b[0m\u001b[0;34m\u001b[0m\u001b[0;34m\u001b[0m\u001b[0m\n\u001b[1;32m   3227\u001b[0m         )\n\u001b[0;32m-> 3228\u001b[0;31m         \u001b[0mformatter\u001b[0m\u001b[0;34m.\u001b[0m\u001b[0msave\u001b[0m\u001b[0;34m(\u001b[0m\u001b[0;34m)\u001b[0m\u001b[0;34m\u001b[0m\u001b[0;34m\u001b[0m\u001b[0m\n\u001b[0m\u001b[1;32m   3229\u001b[0m \u001b[0;34m\u001b[0m\u001b[0m\n\u001b[1;32m   3230\u001b[0m         \u001b[0;32mif\u001b[0m \u001b[0mpath_or_buf\u001b[0m \u001b[0;32mis\u001b[0m \u001b[0;32mNone\u001b[0m\u001b[0;34m:\u001b[0m\u001b[0;34m\u001b[0m\u001b[0;34m\u001b[0m\u001b[0m\n",
      "\u001b[0;32m~/opt/anaconda3/lib/python3.7/site-packages/pandas/io/formats/csvs.py\u001b[0m in \u001b[0;36msave\u001b[0;34m(self)\u001b[0m\n\u001b[1;32m    181\u001b[0m                 \u001b[0mself\u001b[0m\u001b[0;34m.\u001b[0m\u001b[0mmode\u001b[0m\u001b[0;34m,\u001b[0m\u001b[0;34m\u001b[0m\u001b[0;34m\u001b[0m\u001b[0m\n\u001b[1;32m    182\u001b[0m                 \u001b[0mencoding\u001b[0m\u001b[0;34m=\u001b[0m\u001b[0mself\u001b[0m\u001b[0;34m.\u001b[0m\u001b[0mencoding\u001b[0m\u001b[0;34m,\u001b[0m\u001b[0;34m\u001b[0m\u001b[0;34m\u001b[0m\u001b[0m\n\u001b[0;32m--> 183\u001b[0;31m                 \u001b[0mcompression\u001b[0m\u001b[0;34m=\u001b[0m\u001b[0mself\u001b[0m\u001b[0;34m.\u001b[0m\u001b[0mcompression\u001b[0m\u001b[0;34m,\u001b[0m\u001b[0;34m\u001b[0m\u001b[0;34m\u001b[0m\u001b[0m\n\u001b[0m\u001b[1;32m    184\u001b[0m             )\n\u001b[1;32m    185\u001b[0m             \u001b[0mclose\u001b[0m \u001b[0;34m=\u001b[0m \u001b[0;32mTrue\u001b[0m\u001b[0;34m\u001b[0m\u001b[0;34m\u001b[0m\u001b[0m\n",
      "\u001b[0;32m~/opt/anaconda3/lib/python3.7/site-packages/pandas/io/common.py\u001b[0m in \u001b[0;36m_get_handle\u001b[0;34m(path_or_buf, mode, encoding, compression, memory_map, is_text)\u001b[0m\n\u001b[1;32m    397\u001b[0m         \u001b[0;32mif\u001b[0m \u001b[0mencoding\u001b[0m\u001b[0;34m:\u001b[0m\u001b[0;34m\u001b[0m\u001b[0;34m\u001b[0m\u001b[0m\n\u001b[1;32m    398\u001b[0m             \u001b[0;31m# Encoding\u001b[0m\u001b[0;34m\u001b[0m\u001b[0;34m\u001b[0m\u001b[0;34m\u001b[0m\u001b[0m\n\u001b[0;32m--> 399\u001b[0;31m             \u001b[0mf\u001b[0m \u001b[0;34m=\u001b[0m \u001b[0mopen\u001b[0m\u001b[0;34m(\u001b[0m\u001b[0mpath_or_buf\u001b[0m\u001b[0;34m,\u001b[0m \u001b[0mmode\u001b[0m\u001b[0;34m,\u001b[0m \u001b[0mencoding\u001b[0m\u001b[0;34m=\u001b[0m\u001b[0mencoding\u001b[0m\u001b[0;34m,\u001b[0m \u001b[0mnewline\u001b[0m\u001b[0;34m=\u001b[0m\u001b[0;34m\"\"\u001b[0m\u001b[0;34m)\u001b[0m\u001b[0;34m\u001b[0m\u001b[0;34m\u001b[0m\u001b[0m\n\u001b[0m\u001b[1;32m    400\u001b[0m         \u001b[0;32melif\u001b[0m \u001b[0mis_text\u001b[0m\u001b[0;34m:\u001b[0m\u001b[0;34m\u001b[0m\u001b[0;34m\u001b[0m\u001b[0m\n\u001b[1;32m    401\u001b[0m             \u001b[0;31m# No explicit encoding\u001b[0m\u001b[0;34m\u001b[0m\u001b[0;34m\u001b[0m\u001b[0;34m\u001b[0m\u001b[0m\n",
      "\u001b[0;31mFileNotFoundError\u001b[0m: [Errno 2] No such file or directory: '/Volumes/GoogleDrive/My Drive/help/toni/results/all/ajuntaments.txt'"
     ]
    }
   ],
   "source": [
    "for url in urls:\n",
    "    \n",
    "    # select the label for the output file\n",
    "    for tag in tags:\n",
    "        if tag in url:\n",
    "            label=tags[tag]\n",
    "            \n",
    "    # convert json to shapefile\n",
    "    converter(results_dir,label,url,relevant_fields)"
   ]
  },
  {
   "cell_type": "markdown",
   "metadata": {},
   "source": [
    "# 4. Close error log file"
   ]
  },
  {
   "cell_type": "code",
   "execution_count": null,
   "metadata": {},
   "outputs": [],
   "source": [
    "elf.close()"
   ]
  }
 ],
 "metadata": {
  "kernelspec": {
   "display_name": "Python 3",
   "language": "python",
   "name": "python3"
  },
  "language_info": {
   "codemirror_mode": {
    "name": "ipython",
    "version": 3
   },
   "file_extension": ".py",
   "mimetype": "text/x-python",
   "name": "python",
   "nbconvert_exporter": "python",
   "pygments_lexer": "ipython3",
   "version": "3.7.3"
  }
 },
 "nbformat": 4,
 "nbformat_minor": 2
}
