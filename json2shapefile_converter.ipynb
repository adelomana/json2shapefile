{
 "cells": [
  {
   "cell_type": "code",
   "execution_count": 1,
   "metadata": {},
   "outputs": [],
   "source": [
    "import requests\n",
    "import pandas\n",
    "import geopandas\n",
    "import shapely"
   ]
  },
  {
   "cell_type": "markdown",
   "metadata": {},
   "source": [
    "# 0. User defined variables"
   ]
  },
  {
   "cell_type": "code",
   "execution_count": 2,
   "metadata": {},
   "outputs": [],
   "source": [
    "url='http://serveisoberts.gencat.cat/api/equipaments?&exact_matching=&categories.tema=Administraci%C3%B3%20p%C3%BAblica&categories.subtema=Ens%20locals&categories.subtema2=Ajuntaments&adv=true'"
   ]
  },
  {
   "cell_type": "markdown",
   "metadata": {},
   "source": [
    "# 1. Read data"
   ]
  },
  {
   "cell_type": "code",
   "execution_count": 3,
   "metadata": {},
   "outputs": [],
   "source": [
    "# not working because:\n",
    "# DriverError: '/vsimem/b90a75d3a81f4494ac7992a7be08428d' not recognized as a supported file format.\n",
    "\n",
    "# geopandas.read_file(url)"
   ]
  },
  {
   "cell_type": "code",
   "execution_count": 4,
   "metadata": {},
   "outputs": [],
   "source": [
    "response=requests.get(url)"
   ]
  },
  {
   "cell_type": "code",
   "execution_count": 5,
   "metadata": {},
   "outputs": [],
   "source": [
    "data=response.json()"
   ]
  },
  {
   "cell_type": "markdown",
   "metadata": {},
   "source": [
    "# 2. Manipulate data"
   ]
  },
  {
   "cell_type": "markdown",
   "metadata": {},
   "source": [
    "## 2.1. Create a smaller dictionary with only relevant fields"
   ]
  },
  {
   "cell_type": "code",
   "execution_count": 6,
   "metadata": {},
   "outputs": [
    {
     "name": "stdout",
     "output_type": "stream",
     "text": [
      "{'id': ['547500', '546860', '547615', '547054', '547243'], 'titol': ['Ajuntament de Sant Jordi Desvalls', 'Ajuntament de Barberà de la Conca', 'Ajuntament de Vilanova de Prades', 'Ajuntament de la Riera de Gaià', 'Ajuntament de Mont-ras'], 'utx': [496105.343, 351852.508, 329001.907, 362557.215, 511997.68], 'uty': [4657722.413, 4585885.731, 4579409.957, 4558359.595, 4639582.972], 'phone': ['972-798005', '977-887010', '977-869056', '977-655000', '972-301974']}\n"
     ]
    }
   ],
   "source": [
    "relevant_fields=['id','titol','utx','uty','phone']\n",
    "dictionary={}\n",
    "for field in relevant_fields:\n",
    "    dictionary[field]=[]\n",
    "\n",
    "# iterate over items to generate relevant dictionary\n",
    "# for item in data['items']:\n",
    "for i in range(5):\n",
    "    item=data['items'][i]\n",
    "    \n",
    "    dictionary['id'].append(item['id'])\n",
    "    dictionary['titol'].append(item['titol'])\n",
    "    dictionary['utx'].append(item['utm']['utmx'])\n",
    "    dictionary['uty'].append(item['utm']['utmy'])\n",
    "    dictionary['phone'].append(','.join([element for element in item['telefons'] if len(element) > 3]))\n",
    "                               \n",
    "print(dictionary)  "
   ]
  },
  {
   "cell_type": "markdown",
   "metadata": {},
   "source": [
    "## 2.2. Convert dictionary into pandas dataframe"
   ]
  },
  {
   "cell_type": "code",
   "execution_count": 7,
   "metadata": {},
   "outputs": [
    {
     "data": {
      "text/html": [
       "<div>\n",
       "<style scoped>\n",
       "    .dataframe tbody tr th:only-of-type {\n",
       "        vertical-align: middle;\n",
       "    }\n",
       "\n",
       "    .dataframe tbody tr th {\n",
       "        vertical-align: top;\n",
       "    }\n",
       "\n",
       "    .dataframe thead th {\n",
       "        text-align: right;\n",
       "    }\n",
       "</style>\n",
       "<table border=\"1\" class=\"dataframe\">\n",
       "  <thead>\n",
       "    <tr style=\"text-align: right;\">\n",
       "      <th></th>\n",
       "      <th>id</th>\n",
       "      <th>titol</th>\n",
       "      <th>utx</th>\n",
       "      <th>uty</th>\n",
       "      <th>phone</th>\n",
       "    </tr>\n",
       "  </thead>\n",
       "  <tbody>\n",
       "    <tr>\n",
       "      <td>0</td>\n",
       "      <td>547500</td>\n",
       "      <td>Ajuntament de Sant Jordi Desvalls</td>\n",
       "      <td>496105.343</td>\n",
       "      <td>4657722.413</td>\n",
       "      <td>972-798005</td>\n",
       "    </tr>\n",
       "    <tr>\n",
       "      <td>1</td>\n",
       "      <td>546860</td>\n",
       "      <td>Ajuntament de Barberà de la Conca</td>\n",
       "      <td>351852.508</td>\n",
       "      <td>4585885.731</td>\n",
       "      <td>977-887010</td>\n",
       "    </tr>\n",
       "    <tr>\n",
       "      <td>2</td>\n",
       "      <td>547615</td>\n",
       "      <td>Ajuntament de Vilanova de Prades</td>\n",
       "      <td>329001.907</td>\n",
       "      <td>4579409.957</td>\n",
       "      <td>977-869056</td>\n",
       "    </tr>\n",
       "    <tr>\n",
       "      <td>3</td>\n",
       "      <td>547054</td>\n",
       "      <td>Ajuntament de la Riera de Gaià</td>\n",
       "      <td>362557.215</td>\n",
       "      <td>4558359.595</td>\n",
       "      <td>977-655000</td>\n",
       "    </tr>\n",
       "    <tr>\n",
       "      <td>4</td>\n",
       "      <td>547243</td>\n",
       "      <td>Ajuntament de Mont-ras</td>\n",
       "      <td>511997.680</td>\n",
       "      <td>4639582.972</td>\n",
       "      <td>972-301974</td>\n",
       "    </tr>\n",
       "  </tbody>\n",
       "</table>\n",
       "</div>"
      ],
      "text/plain": [
       "       id                              titol         utx          uty  \\\n",
       "0  547500  Ajuntament de Sant Jordi Desvalls  496105.343  4657722.413   \n",
       "1  546860  Ajuntament de Barberà de la Conca  351852.508  4585885.731   \n",
       "2  547615   Ajuntament de Vilanova de Prades  329001.907  4579409.957   \n",
       "3  547054     Ajuntament de la Riera de Gaià  362557.215  4558359.595   \n",
       "4  547243             Ajuntament de Mont-ras  511997.680  4639582.972   \n",
       "\n",
       "        phone  \n",
       "0  972-798005  \n",
       "1  977-887010  \n",
       "2  977-869056  \n",
       "3  977-655000  \n",
       "4  972-301974  "
      ]
     },
     "execution_count": 7,
     "metadata": {},
     "output_type": "execute_result"
    }
   ],
   "source": [
    "df=pandas.DataFrame.from_dict(dictionary)\n",
    "df.head()"
   ]
  },
  {
   "cell_type": "code",
   "execution_count": 8,
   "metadata": {},
   "outputs": [],
   "source": [
    "df.to_csv('locations.txt',sep='\\t')"
   ]
  },
  {
   "cell_type": "markdown",
   "metadata": {},
   "source": [
    "## 2.3. Convert pandas dataframe to geopandas dataframe"
   ]
  },
  {
   "cell_type": "code",
   "execution_count": 9,
   "metadata": {},
   "outputs": [
    {
     "data": {
      "text/html": [
       "<div>\n",
       "<style scoped>\n",
       "    .dataframe tbody tr th:only-of-type {\n",
       "        vertical-align: middle;\n",
       "    }\n",
       "\n",
       "    .dataframe tbody tr th {\n",
       "        vertical-align: top;\n",
       "    }\n",
       "\n",
       "    .dataframe thead th {\n",
       "        text-align: right;\n",
       "    }\n",
       "</style>\n",
       "<table border=\"1\" class=\"dataframe\">\n",
       "  <thead>\n",
       "    <tr style=\"text-align: right;\">\n",
       "      <th></th>\n",
       "      <th>id</th>\n",
       "      <th>titol</th>\n",
       "      <th>utx</th>\n",
       "      <th>uty</th>\n",
       "      <th>phone</th>\n",
       "      <th>geometry</th>\n",
       "    </tr>\n",
       "  </thead>\n",
       "  <tbody>\n",
       "    <tr>\n",
       "      <td>0</td>\n",
       "      <td>547500</td>\n",
       "      <td>Ajuntament de Sant Jordi Desvalls</td>\n",
       "      <td>496105.343</td>\n",
       "      <td>4657722.413</td>\n",
       "      <td>972-798005</td>\n",
       "      <td>POINT (496105.343 4657722.413)</td>\n",
       "    </tr>\n",
       "    <tr>\n",
       "      <td>1</td>\n",
       "      <td>546860</td>\n",
       "      <td>Ajuntament de Barberà de la Conca</td>\n",
       "      <td>351852.508</td>\n",
       "      <td>4585885.731</td>\n",
       "      <td>977-887010</td>\n",
       "      <td>POINT (351852.508 4585885.731)</td>\n",
       "    </tr>\n",
       "    <tr>\n",
       "      <td>2</td>\n",
       "      <td>547615</td>\n",
       "      <td>Ajuntament de Vilanova de Prades</td>\n",
       "      <td>329001.907</td>\n",
       "      <td>4579409.957</td>\n",
       "      <td>977-869056</td>\n",
       "      <td>POINT (329001.907 4579409.957)</td>\n",
       "    </tr>\n",
       "    <tr>\n",
       "      <td>3</td>\n",
       "      <td>547054</td>\n",
       "      <td>Ajuntament de la Riera de Gaià</td>\n",
       "      <td>362557.215</td>\n",
       "      <td>4558359.595</td>\n",
       "      <td>977-655000</td>\n",
       "      <td>POINT (362557.215 4558359.595)</td>\n",
       "    </tr>\n",
       "    <tr>\n",
       "      <td>4</td>\n",
       "      <td>547243</td>\n",
       "      <td>Ajuntament de Mont-ras</td>\n",
       "      <td>511997.680</td>\n",
       "      <td>4639582.972</td>\n",
       "      <td>972-301974</td>\n",
       "      <td>POINT (511997.68 4639582.972)</td>\n",
       "    </tr>\n",
       "  </tbody>\n",
       "</table>\n",
       "</div>"
      ],
      "text/plain": [
       "       id                              titol         utx          uty  \\\n",
       "0  547500  Ajuntament de Sant Jordi Desvalls  496105.343  4657722.413   \n",
       "1  546860  Ajuntament de Barberà de la Conca  351852.508  4585885.731   \n",
       "2  547615   Ajuntament de Vilanova de Prades  329001.907  4579409.957   \n",
       "3  547054     Ajuntament de la Riera de Gaià  362557.215  4558359.595   \n",
       "4  547243             Ajuntament de Mont-ras  511997.680  4639582.972   \n",
       "\n",
       "        phone                        geometry  \n",
       "0  972-798005  POINT (496105.343 4657722.413)  \n",
       "1  977-887010  POINT (351852.508 4585885.731)  \n",
       "2  977-869056  POINT (329001.907 4579409.957)  \n",
       "3  977-655000  POINT (362557.215 4558359.595)  \n",
       "4  972-301974   POINT (511997.68 4639582.972)  "
      ]
     },
     "execution_count": 9,
     "metadata": {},
     "output_type": "execute_result"
    }
   ],
   "source": [
    "geometry=[shapely.geometry.Point(xy) for xy in zip(df.utx,df.uty)]\n",
    "crs={'init':'epsg:25831'}\n",
    "gdf=geopandas.GeoDataFrame(df,crs=crs,geometry=geometry)\n",
    "gdf.head()"
   ]
  },
  {
   "cell_type": "markdown",
   "metadata": {},
   "source": [
    "# 3. Save to shapefile"
   ]
  },
  {
   "cell_type": "code",
   "execution_count": 10,
   "metadata": {},
   "outputs": [],
   "source": [
    "gdf.to_file(\"locations.shp\")"
   ]
  }
 ],
 "metadata": {
  "kernelspec": {
   "display_name": "Python 3",
   "language": "python",
   "name": "python3"
  },
  "language_info": {
   "codemirror_mode": {
    "name": "ipython",
    "version": 3
   },
   "file_extension": ".py",
   "mimetype": "text/x-python",
   "name": "python",
   "nbconvert_exporter": "python",
   "pygments_lexer": "ipython3",
   "version": "3.7.4"
  }
 },
 "nbformat": 4,
 "nbformat_minor": 2
}
