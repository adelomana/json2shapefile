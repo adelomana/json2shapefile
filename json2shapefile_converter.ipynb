{
 "cells": [
  {
   "cell_type": "code",
   "execution_count": 1,
   "metadata": {},
   "outputs": [],
   "source": [
    "import requests,pandas,geopandas,shapely,os"
   ]
  },
  {
   "cell_type": "code",
   "execution_count": 2,
   "metadata": {},
   "outputs": [],
   "source": [
    "def converter(results_dir,label,url,relevant_fields):\n",
    "    \n",
    "    print('Processing {} ...'.format(label))\n",
    "    \n",
    "    # 1. read url\n",
    "    response=requests.get(url)\n",
    "    data=response.json()\n",
    "    \n",
    "    # 2. create dictionary\n",
    "    dictionary={}\n",
    "    for field in relevant_fields:\n",
    "        dictionary[field]=[]\n",
    "        \n",
    "    print('\\t Detected {} locations.'.format(len(data['items'])))\n",
    "\n",
    "    for item in data['items']:    \n",
    "\n",
    "        item_id=item['id']\n",
    "        titol=item['titol']\n",
    "        phones=','.join([element for element in item['telefons'] if len(element) > 3])\n",
    "\n",
    "        try:\n",
    "            utmx=item['utm']['utmx']\n",
    "            utmy=item['utm']['utmy']\n",
    "\n",
    "            dictionary['id'].append(item_id)\n",
    "            dictionary['titol'].append(titol)\n",
    "            dictionary['utx'].append(utmx)\n",
    "            dictionary['uty'].append(utmy)\n",
    "            dictionary['phone'].append(phones)\n",
    "\n",
    "        except:\n",
    "            print('WARNING: dropping {} because utm not found.'.format(titol))\n",
    "    \n",
    "    # 3. create pandas dataframe and write csv\n",
    "    df=pandas.DataFrame.from_dict(dictionary)\n",
    "    df.to_csv('{}{}.locations.txt'.format(results_dir,label),sep='\\t')\n",
    "    \n",
    "    # 4. create geopandas dataframe\n",
    "    geometry=[shapely.geometry.Point(xy) for xy in zip(df.utx,df.uty)]\n",
    "    crs={'init':'epsg:25831'}\n",
    "    gdf=geopandas.GeoDataFrame(df,crs=crs,geometry=geometry)\n",
    "    \n",
    "    # 5. create shapefile\n",
    "    gdf.to_file('{}{}.locations.shp'.format(results_dir,label))\n",
    "    \n",
    "    return None"
   ]
  },
  {
   "cell_type": "markdown",
   "metadata": {},
   "source": [
    "# 0. User defined variables"
   ]
  },
  {
   "cell_type": "code",
   "execution_count": 3,
   "metadata": {},
   "outputs": [],
   "source": [
    "url_file='//Users/adrianlopezgarciadelomana/gd/help/toni/data/url_serveisoberts.txt'\n",
    "results_dir='/Users/adrianlopezgarciadelomana/gd/help/toni/results/all/'"
   ]
  },
  {
   "cell_type": "code",
   "execution_count": 4,
   "metadata": {},
   "outputs": [],
   "source": [
    "relevant_fields=['id','titol','utx','uty','phone']"
   ]
  },
  {
   "cell_type": "code",
   "execution_count": 5,
   "metadata": {},
   "outputs": [],
   "source": [
    "tags={\n",
    "    'Ajuntaments':'ajuntaments',\n",
    "    'Confraries':'conf_pesc',\n",
    "    'atenci%C3%B3%20ciutadana':'of_aten_ciut',\n",
    "    'agr%C3%A0ria':'eca',\n",
    "    'capacitaci%C3%B3%20nauticopesquera':'ecanautica',\n",
    "    'Hotels':'hotels_entitats',\n",
    "    'Biblioteques':'biblioteca',\n",
    "    'Cultura&adv':'cultura',\n",
    "    'Educaci%C3%B3':'educacio',\n",
    "    'Depend':'cme',\n",
    "    'Bombers':'bombers',\n",
    "    'Policia%20de%20Tr%C3%A0nsit%':'transit_mossos',\n",
    "    'Policies%20Locals':'polic_local',\n",
    "    'Centres%20sanitaris':'centres_sanitaris',\n",
    "    'deixalleries':'deixalleries',\n",
    "}"
   ]
  },
  {
   "cell_type": "markdown",
   "metadata": {},
   "source": [
    "# 1. Read data"
   ]
  },
  {
   "cell_type": "code",
   "execution_count": 6,
   "metadata": {},
   "outputs": [],
   "source": [
    "# not working because:\n",
    "# DriverError: '/vsimem/b90a75d3a81f4494ac7992a7be08428d' not recognized as a supported file format.\n",
    "\n",
    "# geopandas.read_file(url)"
   ]
  },
  {
   "cell_type": "code",
   "execution_count": 7,
   "metadata": {},
   "outputs": [
    {
     "name": "stdout",
     "output_type": "stream",
     "text": [
      "URLs detected: 15\n"
     ]
    }
   ],
   "source": [
    "urls=[]\n",
    "with open(url_file,'r') as f:\n",
    "    for line in f:\n",
    "        v=line.split()\n",
    "        urls.append(v[0])\n",
    "print('URLs detected: {}'.format(len(urls)))"
   ]
  },
  {
   "cell_type": "code",
   "execution_count": 8,
   "metadata": {},
   "outputs": [],
   "source": [
    "# check that each tag is uniquely URL\n",
    "for tag in tags:\n",
    "    found=sum(tag in s for s in urls)\n",
    "    if found != 1:\n",
    "        raise ValueError('Tag found more than in one URL.')"
   ]
  },
  {
   "cell_type": "markdown",
   "metadata": {},
   "source": [
    "# 2. Iterate URLs"
   ]
  },
  {
   "cell_type": "code",
   "execution_count": 9,
   "metadata": {},
   "outputs": [
    {
     "name": "stdout",
     "output_type": "stream",
     "text": [
      "Processing ajuntaments ...\n",
      "\t Detected 500 locations.\n",
      "WARNING: dropping Ajuntament de la Tallada d'Empordà because utm not found.\n",
      "Processing conf_pesc ...\n",
      "\t Detected 30 locations.\n",
      "Processing of_aten_ciut ...\n",
      "\t Detected 7 locations.\n",
      "Processing eca ...\n",
      "\t Detected 13 locations.\n",
      "Processing ecanautica ...\n",
      "\t Detected 1 locations.\n",
      "Processing hotels_entitats ...\n",
      "\t Detected 12 locations.\n",
      "Processing biblioteca ...\n",
      "\t Detected 500 locations.\n",
      "Processing cultura ...\n",
      "\t Detected 500 locations.\n",
      "Processing educacio ...\n",
      "\t Detected 500 locations.\n",
      "Processing cme ...\n",
      "\t Detected 103 locations.\n",
      "Processing bombers ...\n",
      "\t Detected 146 locations.\n",
      "Processing transit_mossos ...\n",
      "\t Detected 8 locations.\n",
      "Processing polic_local ...\n",
      "\t Detected 215 locations.\n",
      "Processing centres_sanitaris ...\n",
      "\t Detected 500 locations.\n",
      "Processing deixalleries ...\n",
      "\t Detected 484 locations.\n",
      "WARNING: dropping DEIXALLERIA MÒBIL DE L'AJUNTAMENT DE REUS because utm not found.\n",
      "WARNING: dropping DEIXALLERIA MÒBIL DE L'AJUNTAMENT DE RUBÍ (II) because utm not found.\n",
      "WARNING: dropping DEIXALLERIA MÒBIL DEL CONSORCI DEL BAGES PER A LA GESTIÓ DE RESIDUS (II) because utm not found.\n",
      "WARNING: dropping DEIXALLERIA MÒBIL DEL CONSELL COMARCAL DEL PLA D'URGELL (I) because utm not found.\n",
      "WARNING: dropping DEIXALLERIA MÒBIL DEL CONSORCI DEL BAGES PER A LA GESTIÓ DE RESIDUS (I) because utm not found.\n",
      "WARNING: dropping DEIXALLERIA MÒBIL DEL CONSELL COMARCAL DEL BERGUEDÀ because utm not found.\n",
      "WARNING: dropping DEIXALLERIA MÒBIL DE L'AJUNTAMENT DE SANTA COLOMA DE GRAMENET because utm not found.\n",
      "WARNING: dropping DEIXALLERIA MÒBIL DE L'AMB (I) because utm not found.\n",
      "WARNING: dropping DEIXALLERIA MÒBIL DE LA MANCOMUNITAT INTERMUNICIPAL VOLUNTÀRIA LA PLANA because utm not found.\n",
      "WARNING: dropping DEIXALLERIA MÒBIL DE L'AJUNTAMENT DE SANT QUIRZE DEL VALLÈS because utm not found.\n",
      "WARNING: dropping DEIXALLERIA MÒBIL DE L'AJUNTAMENT DE RUBÍ because utm not found.\n",
      "WARNING: dropping DEIXALLERIA MÒBIL DE L'AJUNTAMENT DE FIGUERES because utm not found.\n",
      "WARNING: dropping DEIXALLERIA MÒBIL DE L'AJUNTAMENT DE VILA-SECA (I) because utm not found.\n",
      "WARNING: dropping DEIXALLERIA MÒBIL DE L'AJUNTAMENT DE LLEIDA (I) because utm not found.\n",
      "WARNING: dropping DEIXALLERIA MÒBIL DEL CONSELL COMARCAL DE L'ALT EMPORDÀ because utm not found.\n",
      "WARNING: dropping DEIXALLERIA MÒBIL DEL CONSELL COMARCAL DE LA GARROTXA (I) because utm not found.\n",
      "WARNING: dropping DEIXALLERIA MÒBIL DEL CONSELL COMARCAL DEL GIRONÈS because utm not found.\n",
      "WARNING: dropping DEIXALLERIA MÒBIL DEL CONSELL COMARCAL DEL RIPOLLÈS because utm not found.\n",
      "WARNING: dropping DEIXALLERIA MÒBIL DEL CONSELL COMARCAL DEL PALLARS SOBIRÀ because utm not found.\n",
      "WARNING: dropping DEIXALLERIA MÒBIL DEL CONSELL COMARCAL DE LA SEGARRA (I) because utm not found.\n",
      "WARNING: dropping DEIXALLERIA MÒBIL DEL CONSELL COMARCAL DE L'ALT CAMP (I) because utm not found.\n",
      "WARNING: dropping DEIXALLERIA MÒBIL DEL CONSELL COMARCAL DEL PRIORAT because utm not found.\n",
      "WARNING: dropping DEIXALLERIA MÒBIL DEL CONSELL COMARCAL DEL TARRAGONÈS because utm not found.\n",
      "WARNING: dropping DEIXALLERIA MÒBIL DEL CONSELL COMARCAL DEL BAIX EBRE because utm not found.\n",
      "WARNING: dropping DEIXALLERIA MÒBIL DE L'AMB (II) because utm not found.\n",
      "WARNING: dropping DEIXALLERIA MÒBIL DE L'AMB (III) because utm not found.\n",
      "WARNING: dropping DEIXALLERIA MÒBIL DE L'AJUNTAMENT DE BARCELONA (I) because utm not found.\n",
      "WARNING: dropping DEIXALLERIA MÒBIL DE L'AJUNTAMENT DE BARCELONA (II) because utm not found.\n",
      "WARNING: dropping DEIXALLERIA MÒBIL DE L'AJUNTAMENT DE BARCELONA (III) because utm not found.\n",
      "WARNING: dropping DEIXALLERIA MÒBIL DE L'AJUNTAMENT DE CALELLA because utm not found.\n",
      "WARNING: dropping DEIXALLERIA MÒBIL DE L'AJUNTAMENT DE TARRAGONA (I) because utm not found.\n",
      "WARNING: dropping DEIXALLERIA MÒBIL DE L'AJUNTAMENT DE GIRONA (I) because utm not found.\n",
      "WARNING: dropping DEIXALLERIA MÒBIL DE L'AJUNTAMENT DE CERDANYOLA DEL VALLÈS because utm not found.\n",
      "WARNING: dropping DEIXALLERIA MÒBIL DE L'AJUNTAMENT DE TERRASSA because utm not found.\n",
      "WARNING: dropping DEIXALLERIA MÒBIL DEL CONSELL COMARCAL D'OSONA (I) because utm not found.\n",
      "WARNING: dropping DEIXALLERIA MÒBIL DEL CONSELL COMARCAL DEL BAIX CAMP because utm not found.\n",
      "WARNING: dropping DEIXALLERIA MÒBIL DEL CONSELL COMARCAL DE LA NOGUERA because utm not found.\n",
      "WARNING: dropping DEIXALLERIA MÒBIL DE L'AJUNTAMENT DE LLEIDA (II) because utm not found.\n",
      "WARNING: dropping DEIXALLERIA MÒBIL DE L'AJUNTAMENT D'IGUALADA because utm not found.\n",
      "WARNING: dropping DEIXALLERIA MÒBIL DEL CONSELL COMARCAL DEL BAIX EMPORDÀ (II) because utm not found.\n",
      "WARNING: dropping DEIXALLERIA MÒBIL DE L'AJUNTAMENT DE BARCELONA (IV) because utm not found.\n",
      "WARNING: dropping DEIXALLERIA MÒBIL DE L'AJUNTAMENT DE BARCELONA (V) because utm not found.\n",
      "WARNING: dropping DEIXALLERIA MÒBIL DEL CONSORCI DE LA VALL DEL GES, ORÍS I BISAURA because utm not found.\n",
      "WARNING: dropping DEIXALLERIA MÒBIL DE L'AJUNTAMENT DE VALLS because utm not found.\n",
      "WARNING: dropping DEIXALLERIA MÒBIL DEL CONSELL COMARCAL DEL BAIX PENEDÈS because utm not found.\n",
      "WARNING: dropping DEIXALLERIA MÒBIL DE L'AJUNTAMENT DE CORBERA DE LLOBREGAT because utm not found.\n",
      "WARNING: dropping DEIXALLERIA MÒBIL DE LA MANCOMUNITAT DE SERVEIS ALELLA/MASNOU/TEIÀ because utm not found.\n",
      "WARNING: dropping DEIXALLERIA MÒBIL DE L'AJUNTAMENT DE GIRONA (II) because utm not found.\n",
      "WARNING: dropping DEIXALLERIA MÒBIL DE LA MANCOMUNITAT DE RECOLLIDA D'ESCOMBRARIES DE L'URGELLET because utm not found.\n",
      "WARNING: dropping DEIXALLERIA MÒBIL DE L'AJUNTAMENT  DE CASTELLBISBAL because utm not found.\n",
      "WARNING: dropping DEIXALLERIA MÒBIL DEL CONSELL COMARCAL DE LA GARROTXA (II) because utm not found.\n",
      "WARNING: dropping DEIXALLERIA MÒBIL DE L'AJUNTAMENT DE MOLLET DEL VALLÈS because utm not found.\n",
      "WARNING: dropping DEIXALLERIA MÒBIL DE L'AJUNTAMENT DE TARRAGONA (II) because utm not found.\n",
      "WARNING: dropping DEIXALLERIA MÒBIL DE LA MANCOMUNITAT INTERMUNICIPAL VOLUNTÀRIA LA PLANA (II) because utm not found.\n",
      "WARNING: dropping DEIXALLERIA MÒBIL DE L'AJUNTAMENT DE LLEIDA (III) because utm not found.\n",
      "WARNING: dropping DEIXALLERIA MÒBIL DE L'AJUNTAMENT DE TARRAGONA (IV) because utm not found.\n",
      "WARNING: dropping DEIXALLERIA MÒBIL DE L'AJUNTAMENT DE VILA-SECA (II) because utm not found.\n",
      "WARNING: dropping DEIXALLERIA MÒBIL DE L'AJUNTAMENT MASQUEFA because utm not found.\n",
      "WARNING: dropping DEIXALLERIA MÒBIL DEL CONSELL COMARCAL D'OSONA (II) because utm not found.\n",
      "WARNING: dropping DEIXALLERIA MÒBIL DEL CONSELL COMARCAL DE L'ALT CAMP (II) because utm not found.\n",
      "WARNING: dropping DEIXALLERIA MÒBIL DEL CONSELL COMARCAL DEL PLA D'URGELL (II) because utm not found.\n",
      "WARNING: dropping DEIXALLERIA MÒBIL DEL CONSORCI DEL BAGES PER A LA GESTIÓ DE RESIDUS (III) because utm not found.\n",
      "WARNING: dropping DEIXALLERIA MÒBIL DE L'AMB (IV) because utm not found.\n",
      "WARNING: dropping DEIXALLERIA MÒBIL DE L'AMB (V) because utm not found.\n",
      "WARNING: dropping DEIXALLERIA MÒBIL DE L'AJUNTAMENT DE TARRAGONA (III) because utm not found.\n",
      "WARNING: dropping DEIXALLERIA MÒBIL DE L'AJUNTAMENT DE MATARÓ because utm not found.\n",
      "WARNING: dropping DEIXALLERIA MÒBIL DE LA MANCOMUNITAT PREMIÀ DE MAR,PREMIÀ DE DALT I VILASSAR DE DALT because utm not found.\n",
      "WARNING: dropping DEIXALLERIA MÒBIL DEL CONSELL COMARCAL DEL MARESME because utm not found.\n",
      "WARNING: dropping DEIXALLERIA MÒBIL DE L'AJUNTAMENT DE CASTELL-PLATJA D'ARO because utm not found.\n",
      "WARNING: dropping DEIXALLERIA MÒBIL DE L'AJUNTAMENT D'ESPARREGUERA because utm not found.\n",
      "WARNING: dropping DEIXALLERIA MÒBIL DE LA MANCOM. INTERMUNIC. GESTIÓ RSU DE L'ALT URGELL MERIDIONAL because utm not found.\n",
      "WARNING: dropping DEIXALLERIA MÒBIL DE L'AJUNTAMENT DE TERRASSA (II) because utm not found.\n",
      "WARNING: dropping DEIXALLERIA MÒBIL DE L'AJUNTAMENT DE VILAFRANCA DEL PENEDÈS (I) because utm not found.\n",
      "WARNING: dropping DEIXALLERIA MÒBIL DEL CONSELL COMARCAL DEL PLA DE L'ESTANY because utm not found.\n",
      "WARNING: dropping DEIXALLERIA DE MEDIONA because utm not found.\n",
      "WARNING: dropping DEIXALLERIA MÒBIL DEL CONSELL COMARCAL DE L'ANOIA because utm not found.\n"
     ]
    }
   ],
   "source": [
    "for url in urls:\n",
    "    \n",
    "    # select the label for the output file\n",
    "    for tag in tags:\n",
    "        if tag in url:\n",
    "            label=tags[tag]\n",
    "            \n",
    "    # convert json to shapefile\n",
    "    converter(results_dir,label,url,relevant_fields)"
   ]
  }
 ],
 "metadata": {
  "kernelspec": {
   "display_name": "Python 3",
   "language": "python",
   "name": "python3"
  },
  "language_info": {
   "codemirror_mode": {
    "name": "ipython",
    "version": 3
   },
   "file_extension": ".py",
   "mimetype": "text/x-python",
   "name": "python",
   "nbconvert_exporter": "python",
   "pygments_lexer": "ipython3",
   "version": "3.7.4"
  }
 },
 "nbformat": 4,
 "nbformat_minor": 2
}
