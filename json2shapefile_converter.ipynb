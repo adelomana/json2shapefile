{
 "cells": [
  {
   "cell_type": "code",
   "execution_count": 1,
   "metadata": {},
   "outputs": [],
   "source": [
    "import requests\n",
    "import pandas\n",
    "import geopandas\n",
    "import shapely"
   ]
  },
  {
   "cell_type": "markdown",
   "metadata": {},
   "source": [
    "# 0. User defined variables"
   ]
  },
  {
   "cell_type": "code",
   "execution_count": 2,
   "metadata": {},
   "outputs": [],
   "source": [
    "url='http://serveisoberts.gencat.cat/api/equipaments?&exact_matching=&categories.tema=Administraci%C3%B3%20p%C3%BAblica&categories.subtema=Ens%20locals&categories.subtema2=Ajuntaments&adv=true'"
   ]
  },
  {
   "cell_type": "markdown",
   "metadata": {},
   "source": [
    "# 1. Read data"
   ]
  },
  {
   "cell_type": "code",
   "execution_count": 3,
   "metadata": {},
   "outputs": [],
   "source": [
    "# not working because:\n",
    "# DriverError: '/vsimem/b90a75d3a81f4494ac7992a7be08428d' not recognized as a supported file format.\n",
    "\n",
    "# geopandas.read_file(url)"
   ]
  },
  {
   "cell_type": "code",
   "execution_count": 4,
   "metadata": {},
   "outputs": [],
   "source": [
    "response=requests.get(url)"
   ]
  },
  {
   "cell_type": "code",
   "execution_count": 5,
   "metadata": {},
   "outputs": [],
   "source": [
    "data=response.json()"
   ]
  },
  {
   "cell_type": "markdown",
   "metadata": {},
   "source": [
    "# 2. Manipulate data"
   ]
  },
  {
   "cell_type": "markdown",
   "metadata": {},
   "source": [
    "## 2.1. Create a smaller dictionary with only relevant fields"
   ]
  },
  {
   "cell_type": "code",
   "execution_count": 6,
   "metadata": {},
   "outputs": [
    {
     "name": "stdout",
     "output_type": "stream",
     "text": [
      "{'id': ['547406', '546929', '547152', '547038'], 'titol': ['Ajuntament de Torredembarra', 'Ajuntament de Guimerà', 'Ajuntament de Llanars', 'Ajuntament de la Morera de Montsant'], 'utx': [365388.698, 348544.428, 445939.895, 316614.249], 'uty': [4556194.781, 4602980.611, 4685578.774, 4568606.642], 'phone': ['977-640025', '973-303038', '972-740361', '977-827112']}\n"
     ]
    }
   ],
   "source": [
    "relevant_fields=['id','titol','utx','uty','phone']\n",
    "dictionary={}\n",
    "for field in relevant_fields:\n",
    "    dictionary[field]=[]\n",
    "\n",
    "# iterate over items to generate relevant dictionary\n",
    "# for item in data['items']:\n",
    "for i in range(4):\n",
    "    item=data['items'][i]\n",
    "    \n",
    "    dictionary['id'].append(item['id'])\n",
    "    dictionary['titol'].append(item['titol'])\n",
    "    dictionary['utx'].append(item['utm']['utmx'])\n",
    "    dictionary['uty'].append(item['utm']['utmy'])\n",
    "    dictionary['phone'].append(','.join([element for element in item['telefons'] if len(element) > 3]))\n",
    "                               \n",
    "print(dictionary)  "
   ]
  },
  {
   "cell_type": "markdown",
   "metadata": {},
   "source": [
    "## 2.2. Convert dictionary into pandas dataframe"
   ]
  },
  {
   "cell_type": "code",
   "execution_count": 7,
   "metadata": {},
   "outputs": [
    {
     "data": {
      "text/html": [
       "<div>\n",
       "<style scoped>\n",
       "    .dataframe tbody tr th:only-of-type {\n",
       "        vertical-align: middle;\n",
       "    }\n",
       "\n",
       "    .dataframe tbody tr th {\n",
       "        vertical-align: top;\n",
       "    }\n",
       "\n",
       "    .dataframe thead th {\n",
       "        text-align: right;\n",
       "    }\n",
       "</style>\n",
       "<table border=\"1\" class=\"dataframe\">\n",
       "  <thead>\n",
       "    <tr style=\"text-align: right;\">\n",
       "      <th></th>\n",
       "      <th>id</th>\n",
       "      <th>titol</th>\n",
       "      <th>utx</th>\n",
       "      <th>uty</th>\n",
       "      <th>phone</th>\n",
       "    </tr>\n",
       "  </thead>\n",
       "  <tbody>\n",
       "    <tr>\n",
       "      <th>0</th>\n",
       "      <td>547406</td>\n",
       "      <td>Ajuntament de Torredembarra</td>\n",
       "      <td>365388.698</td>\n",
       "      <td>4556194.781</td>\n",
       "      <td>977-640025</td>\n",
       "    </tr>\n",
       "    <tr>\n",
       "      <th>1</th>\n",
       "      <td>546929</td>\n",
       "      <td>Ajuntament de Guimerà</td>\n",
       "      <td>348544.428</td>\n",
       "      <td>4602980.611</td>\n",
       "      <td>973-303038</td>\n",
       "    </tr>\n",
       "    <tr>\n",
       "      <th>2</th>\n",
       "      <td>547152</td>\n",
       "      <td>Ajuntament de Llanars</td>\n",
       "      <td>445939.895</td>\n",
       "      <td>4685578.774</td>\n",
       "      <td>972-740361</td>\n",
       "    </tr>\n",
       "    <tr>\n",
       "      <th>3</th>\n",
       "      <td>547038</td>\n",
       "      <td>Ajuntament de la Morera de Montsant</td>\n",
       "      <td>316614.249</td>\n",
       "      <td>4568606.642</td>\n",
       "      <td>977-827112</td>\n",
       "    </tr>\n",
       "  </tbody>\n",
       "</table>\n",
       "</div>"
      ],
      "text/plain": [
       "       id                                titol         utx          uty  \\\n",
       "0  547406          Ajuntament de Torredembarra  365388.698  4556194.781   \n",
       "1  546929                Ajuntament de Guimerà  348544.428  4602980.611   \n",
       "2  547152                Ajuntament de Llanars  445939.895  4685578.774   \n",
       "3  547038  Ajuntament de la Morera de Montsant  316614.249  4568606.642   \n",
       "\n",
       "        phone  \n",
       "0  977-640025  \n",
       "1  973-303038  \n",
       "2  972-740361  \n",
       "3  977-827112  "
      ]
     },
     "execution_count": 7,
     "metadata": {},
     "output_type": "execute_result"
    }
   ],
   "source": [
    "df=pandas.DataFrame.from_dict(dictionary)\n",
    "df.head()"
   ]
  },
  {
   "cell_type": "markdown",
   "metadata": {},
   "source": [
    "## 2.3. Convert pandas dataframe to geopandas dataframe"
   ]
  },
  {
   "cell_type": "code",
   "execution_count": 8,
   "metadata": {},
   "outputs": [
    {
     "data": {
      "text/html": [
       "<div>\n",
       "<style scoped>\n",
       "    .dataframe tbody tr th:only-of-type {\n",
       "        vertical-align: middle;\n",
       "    }\n",
       "\n",
       "    .dataframe tbody tr th {\n",
       "        vertical-align: top;\n",
       "    }\n",
       "\n",
       "    .dataframe thead th {\n",
       "        text-align: right;\n",
       "    }\n",
       "</style>\n",
       "<table border=\"1\" class=\"dataframe\">\n",
       "  <thead>\n",
       "    <tr style=\"text-align: right;\">\n",
       "      <th></th>\n",
       "      <th>id</th>\n",
       "      <th>titol</th>\n",
       "      <th>utx</th>\n",
       "      <th>uty</th>\n",
       "      <th>phone</th>\n",
       "      <th>geometry</th>\n",
       "    </tr>\n",
       "  </thead>\n",
       "  <tbody>\n",
       "    <tr>\n",
       "      <th>0</th>\n",
       "      <td>547406</td>\n",
       "      <td>Ajuntament de Torredembarra</td>\n",
       "      <td>365388.698</td>\n",
       "      <td>4556194.781</td>\n",
       "      <td>977-640025</td>\n",
       "      <td>POINT (365388.698 4556194.781)</td>\n",
       "    </tr>\n",
       "    <tr>\n",
       "      <th>1</th>\n",
       "      <td>546929</td>\n",
       "      <td>Ajuntament de Guimerà</td>\n",
       "      <td>348544.428</td>\n",
       "      <td>4602980.611</td>\n",
       "      <td>973-303038</td>\n",
       "      <td>POINT (348544.428 4602980.611)</td>\n",
       "    </tr>\n",
       "    <tr>\n",
       "      <th>2</th>\n",
       "      <td>547152</td>\n",
       "      <td>Ajuntament de Llanars</td>\n",
       "      <td>445939.895</td>\n",
       "      <td>4685578.774</td>\n",
       "      <td>972-740361</td>\n",
       "      <td>POINT (445939.895 4685578.774)</td>\n",
       "    </tr>\n",
       "    <tr>\n",
       "      <th>3</th>\n",
       "      <td>547038</td>\n",
       "      <td>Ajuntament de la Morera de Montsant</td>\n",
       "      <td>316614.249</td>\n",
       "      <td>4568606.642</td>\n",
       "      <td>977-827112</td>\n",
       "      <td>POINT (316614.249 4568606.642)</td>\n",
       "    </tr>\n",
       "  </tbody>\n",
       "</table>\n",
       "</div>"
      ],
      "text/plain": [
       "       id                                titol         utx          uty  \\\n",
       "0  547406          Ajuntament de Torredembarra  365388.698  4556194.781   \n",
       "1  546929                Ajuntament de Guimerà  348544.428  4602980.611   \n",
       "2  547152                Ajuntament de Llanars  445939.895  4685578.774   \n",
       "3  547038  Ajuntament de la Morera de Montsant  316614.249  4568606.642   \n",
       "\n",
       "        phone                        geometry  \n",
       "0  977-640025  POINT (365388.698 4556194.781)  \n",
       "1  973-303038  POINT (348544.428 4602980.611)  \n",
       "2  972-740361  POINT (445939.895 4685578.774)  \n",
       "3  977-827112  POINT (316614.249 4568606.642)  "
      ]
     },
     "execution_count": 8,
     "metadata": {},
     "output_type": "execute_result"
    }
   ],
   "source": [
    "geometry=[shapely.geometry.Point(xy) for xy in zip(df.utx,df.uty)]\n",
    "crs={'init':'epsg:4326'}\n",
    "gdf=geopandas.GeoDataFrame(df,crs=crs,geometry=geometry)\n",
    "gdf.head()"
   ]
  },
  {
   "cell_type": "markdown",
   "metadata": {},
   "source": [
    "# 3. Save to shapefile"
   ]
  },
  {
   "cell_type": "code",
   "execution_count": 9,
   "metadata": {},
   "outputs": [],
   "source": [
    "gdf.to_file(\"locations.shp\")"
   ]
  }
 ],
 "metadata": {
  "kernelspec": {
   "display_name": "Python 3",
   "language": "python",
   "name": "python3"
  },
  "language_info": {
   "codemirror_mode": {
    "name": "ipython",
    "version": 3
   },
   "file_extension": ".py",
   "mimetype": "text/x-python",
   "name": "python",
   "nbconvert_exporter": "python",
   "pygments_lexer": "ipython3",
   "version": "3.7.3"
  }
 },
 "nbformat": 4,
 "nbformat_minor": 2
}
