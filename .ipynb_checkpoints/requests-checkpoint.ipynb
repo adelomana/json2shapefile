{
 "cells": [
  {
   "cell_type": "code",
   "execution_count": 26,
   "metadata": {},
   "outputs": [],
   "source": [
    "import requests\n",
    "import pandas\n",
    "import geopandas"
   ]
  },
  {
   "cell_type": "markdown",
   "metadata": {},
   "source": [
    "# 0. User defined variables"
   ]
  },
  {
   "cell_type": "code",
   "execution_count": 22,
   "metadata": {},
   "outputs": [],
   "source": [
    "url='http://serveisoberts.gencat.cat/api/equipaments?&exact_matching=&categories.tema=Administraci%C3%B3%20p%C3%BAblica&categories.subtema=Ens%20locals&categories.subtema2=Ajuntaments&adv=true'"
   ]
  },
  {
   "cell_type": "markdown",
   "metadata": {},
   "source": [
    "# 1. Read data"
   ]
  },
  {
   "cell_type": "code",
   "execution_count": 25,
   "metadata": {},
   "outputs": [],
   "source": [
    "# not working because:\n",
    "# DriverError: '/vsimem/b90a75d3a81f4494ac7992a7be08428d' not recognized as a supported file format.\n",
    "\n",
    "# geopandas.read_file(url)"
   ]
  },
  {
   "cell_type": "code",
   "execution_count": 23,
   "metadata": {},
   "outputs": [],
   "source": [
    "response=requests.get(url)"
   ]
  },
  {
   "cell_type": "code",
   "execution_count": 8,
   "metadata": {},
   "outputs": [],
   "source": [
    "data=response.json()"
   ]
  },
  {
   "cell_type": "markdown",
   "metadata": {},
   "source": [
    "# 2. Manipulate data"
   ]
  },
  {
   "cell_type": "code",
   "execution_count": 9,
   "metadata": {},
   "outputs": [
    {
     "name": "stdout",
     "output_type": "stream",
     "text": [
      "dict_keys(['num', 'count', 'offset', 'start', 'isCursor', 'items', 'limit'])\n"
     ]
    }
   ],
   "source": [
    "print(data.keys())"
   ]
  },
  {
   "cell_type": "markdown",
   "metadata": {},
   "source": [
    "## 2.1. Create a smaller dictionary with only relevant fields"
   ]
  },
  {
   "cell_type": "code",
   "execution_count": null,
   "metadata": {},
   "outputs": [],
   "source": [
    "# https://gis.stackexchange.com/questions/174159/convert-a-pandas-dataframe-to-a-geodataframe\n",
    "dictionary={}\n",
    "relevant_fields=['id','titol','utx','uty','phone']\n",
    "for field in relevant_fields:\n",
    "    dictionary[field]=[]\n",
    "\n",
    "# iterate over items to generate relevant dictionary\n",
    "for item in data['items']:\n",
    "    \n",
    "    dictionary['id'].append(item['id'])\n",
    "    dictionary['titol'].append(item['titol'])\n",
    "    dictionary['utx'].append()\n",
    "    \n",
    "    \n",
    "    "
   ]
  },
  {
   "cell_type": "code",
   "execution_count": 31,
   "metadata": {},
   "outputs": [],
   "source": [
    "## convert dictionary to pandas dataframe\n",
    "## convert pandas dataframe to geopandas dataframe"
   ]
  },
  {
   "cell_type": "code",
   "execution_count": 30,
   "metadata": {},
   "outputs": [
    {
     "data": {
      "text/html": [
       "<div>\n",
       "<style scoped>\n",
       "    .dataframe tbody tr th:only-of-type {\n",
       "        vertical-align: middle;\n",
       "    }\n",
       "\n",
       "    .dataframe tbody tr th {\n",
       "        vertical-align: top;\n",
       "    }\n",
       "\n",
       "    .dataframe thead th {\n",
       "        text-align: right;\n",
       "    }\n",
       "</style>\n",
       "<table border=\"1\" class=\"dataframe\">\n",
       "  <thead>\n",
       "    <tr style=\"text-align: right;\">\n",
       "      <th></th>\n",
       "      <th>num</th>\n",
       "      <th>count</th>\n",
       "      <th>offset</th>\n",
       "      <th>start</th>\n",
       "      <th>isCursor</th>\n",
       "      <th>items</th>\n",
       "      <th>limit</th>\n",
       "    </tr>\n",
       "  </thead>\n",
       "  <tbody>\n",
       "    <tr>\n",
       "      <td>0</td>\n",
       "      <td>500</td>\n",
       "      <td>946</td>\n",
       "      <td>500</td>\n",
       "      <td>1</td>\n",
       "      <td>False</td>\n",
       "      <td>{'adreca': {'carrer': 'Plaça del Castell, 8', ...</td>\n",
       "      <td>500</td>\n",
       "    </tr>\n",
       "    <tr>\n",
       "      <td>1</td>\n",
       "      <td>500</td>\n",
       "      <td>946</td>\n",
       "      <td>500</td>\n",
       "      <td>1</td>\n",
       "      <td>False</td>\n",
       "      <td>{'adreca': {'carrer': 'ctra.  Tàrrega 26', 'mu...</td>\n",
       "      <td>500</td>\n",
       "    </tr>\n",
       "    <tr>\n",
       "      <td>2</td>\n",
       "      <td>500</td>\n",
       "      <td>946</td>\n",
       "      <td>500</td>\n",
       "      <td>1</td>\n",
       "      <td>False</td>\n",
       "      <td>{'adreca': {'carrer': 'pl.  Om 3', 'municipi':...</td>\n",
       "      <td>500</td>\n",
       "    </tr>\n",
       "    <tr>\n",
       "      <td>3</td>\n",
       "      <td>500</td>\n",
       "      <td>946</td>\n",
       "      <td>500</td>\n",
       "      <td>1</td>\n",
       "      <td>False</td>\n",
       "      <td>{'adreca': {'carrer': 'pl.  Priorat 6', 'munic...</td>\n",
       "      <td>500</td>\n",
       "    </tr>\n",
       "    <tr>\n",
       "      <td>4</td>\n",
       "      <td>500</td>\n",
       "      <td>946</td>\n",
       "      <td>500</td>\n",
       "      <td>1</td>\n",
       "      <td>False</td>\n",
       "      <td>{'adreca': {'carrer': 'Pl. Dr. Ferran, s/n', '...</td>\n",
       "      <td>500</td>\n",
       "    </tr>\n",
       "  </tbody>\n",
       "</table>\n",
       "</div>"
      ],
      "text/plain": [
       "   num  count  offset  start  isCursor  \\\n",
       "0  500    946     500      1     False   \n",
       "1  500    946     500      1     False   \n",
       "2  500    946     500      1     False   \n",
       "3  500    946     500      1     False   \n",
       "4  500    946     500      1     False   \n",
       "\n",
       "                                               items  limit  \n",
       "0  {'adreca': {'carrer': 'Plaça del Castell, 8', ...    500  \n",
       "1  {'adreca': {'carrer': 'ctra.  Tàrrega 26', 'mu...    500  \n",
       "2  {'adreca': {'carrer': 'pl.  Om 3', 'municipi':...    500  \n",
       "3  {'adreca': {'carrer': 'pl.  Priorat 6', 'munic...    500  \n",
       "4  {'adreca': {'carrer': 'Pl. Dr. Ferran, s/n', '...    500  "
      ]
     },
     "execution_count": 30,
     "metadata": {},
     "output_type": "execute_result"
    }
   ],
   "source": [
    "df=pandas.DataFrame.from_dict(data)\n",
    "df.head()"
   ]
  },
  {
   "cell_type": "markdown",
   "metadata": {},
   "source": [
    "# 3. Save to shapefile"
   ]
  },
  {
   "cell_type": "code",
   "execution_count": 17,
   "metadata": {},
   "outputs": [
    {
     "name": "stdout",
     "output_type": "stream",
     "text": [
      "500\n"
     ]
    }
   ],
   "source": [
    "df.to_file(\"data.shp\")"
   ]
  },
  {
   "cell_type": "code",
   "execution_count": null,
   "metadata": {},
   "outputs": [],
   "source": [
    "csv_file='data.csv'\n",
    "with open(csv_file,'w') as f:\n",
    "    "
   ]
  }
 ],
 "metadata": {
  "kernelspec": {
   "display_name": "Python 3",
   "language": "python",
   "name": "python3"
  },
  "language_info": {
   "codemirror_mode": {
    "name": "ipython",
    "version": 3
   },
   "file_extension": ".py",
   "mimetype": "text/x-python",
   "name": "python",
   "nbconvert_exporter": "python",
   "pygments_lexer": "ipython3",
   "version": "3.7.3"
  }
 },
 "nbformat": 4,
 "nbformat_minor": 2
}
